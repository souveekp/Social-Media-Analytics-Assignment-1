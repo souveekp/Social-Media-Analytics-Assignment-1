{
  "nbformat": 4,
  "nbformat_minor": 0,
  "metadata": {
    "colab": {
      "name": "Q2_Statistics",
      "provenance": []
    },
    "kernelspec": {
      "name": "python3",
      "display_name": "Python 3"
    },
    "language_info": {
      "name": "python"
    }
  },
  "cells": [
    {
      "cell_type": "code",
      "metadata": {
        "colab": {
          "base_uri": "https://localhost:8080/"
        },
        "id": "tGIrGW6zBk-7",
        "outputId": "836d9441-9027-434f-c549-d9921837ac58"
      },
      "source": [
        "from google.colab import drive\n",
        "drive.mount('/content/drive')"
      ],
      "execution_count": 2,
      "outputs": [
        {
          "output_type": "stream",
          "name": "stdout",
          "text": [
            "Drive already mounted at /content/drive; to attempt to forcibly remount, call drive.mount(\"/content/drive\", force_remount=True).\n"
          ]
        }
      ]
    },
    {
      "cell_type": "code",
      "metadata": {
        "id": "YBjivAgvGnU1"
      },
      "source": [
        "import networkx as nx\n",
        "import pandas as pd\n",
        "# kn2 = nx.read_gml('/content/drive/MyDrive/SEM 3/SMA Assignment/karate.gml', label='id')\n",
        "# print(kn2.edges)\n",
        "# print((kn2.nodes))"
      ],
      "execution_count": 3,
      "outputs": []
    },
    {
      "cell_type": "code",
      "metadata": {
        "colab": {
          "base_uri": "https://localhost:8080/"
        },
        "id": "j7JQIOw6A-QM",
        "outputId": "e734a4ad-744c-4548-c16d-597cb36ced0c"
      },
      "source": [
        "karate = nx.read_gml('/content/drive/MyDrive/SEM 3/SMA Assignment/karate.gml', label='id')\n",
        "print(\"Number of nodes: \",karate.number_of_nodes())\n",
        "print(\"Number of edges: \",karate.number_of_edges())\n",
        "print(\"Average path lengths: \",nx.average_shortest_path_length(karate))\n",
        "print(\"Average clustering coefficient: \",nx.average_clustering(karate))"
      ],
      "execution_count": 4,
      "outputs": [
        {
          "output_type": "stream",
          "name": "stdout",
          "text": [
            "Number of nodes:  34\n",
            "Number of edges:  78\n",
            "Average path lengths:  2.408199643493761\n",
            "Average clustering coefficient:  0.5706384782076823\n"
          ]
        }
      ]
    },
    {
      "cell_type": "code",
      "metadata": {
        "colab": {
          "base_uri": "https://localhost:8080/"
        },
        "id": "kwBT_jOB-pkH",
        "outputId": "b6131170-9c2e-40ca-9578-af1849f5753a"
      },
      "source": [
        "dol = nx.read_gml('/content/drive/MyDrive/SEM 3/SMA Assignment/dolphin.gml', label='id')\n",
        "print(\"Number of nodes: \",dol.number_of_nodes())\n",
        "print(\"Number of edges: \",dol.number_of_edges())\n",
        "print(\"average path lengths: \",nx.average_shortest_path_length(dol))\n",
        "print(\"average clustering coefficient: \",nx.average_clustering(dol))"
      ],
      "execution_count": 5,
      "outputs": [
        {
          "output_type": "stream",
          "name": "stdout",
          "text": [
            "Number of nodes:  62\n",
            "Number of edges:  159\n",
            "average path lengths:  3.3569539925965097\n",
            "average clustering coefficient:  0.2589582460550202\n"
          ]
        }
      ]
    },
    {
      "cell_type": "code",
      "metadata": {
        "colab": {
          "base_uri": "https://localhost:8080/"
        },
        "id": "-vuwoDGA_kRf",
        "outputId": "a484e1c5-1e31-4faf-ad51-596fd61db7ce"
      },
      "source": [
        "jazz = nx.read_gml('/content/drive/MyDrive/SEM 3/SMA Assignment/jazz.gml')\n",
        "print(\"Number of nodes: \",jazz.number_of_nodes())\n",
        "print(\"Number of edges: \",jazz.number_of_edges())\n",
        "print(\"average path lengths: \",nx.average_shortest_path_length(jazz))\n",
        "print(\"average clustering coefficient: \",nx.average_clustering(jazz))"
      ],
      "execution_count": 7,
      "outputs": [
        {
          "output_type": "stream",
          "name": "stdout",
          "text": [
            "Number of nodes:  198\n",
            "Number of edges:  2742\n",
            "average path lengths:  0.7962621135209967\n",
            "average clustering coefficient:  0.30872535107681504\n"
          ]
        }
      ]
    },
    {
      "cell_type": "code",
      "metadata": {
        "colab": {
          "base_uri": "https://localhost:8080/",
          "height": 141
        },
        "id": "tOMR7H6kSIjo",
        "outputId": "0fa14f9c-0e60-42bf-9a9a-09ccff4f25f5"
      },
      "source": [
        "graphs_list = [karate, dol, jazz]\n",
        "data = []\n",
        "column_names = [\"Nodes\",\"Edges\",\"Average Path Length\", \"Average Clustering\"]\n",
        "for graph in graphs_list:\n",
        "  # d = \n",
        "  data.append([nx.number_of_nodes(graph),\n",
        "                nx.number_of_edges(graph),\n",
        "                nx.average_shortest_path_length(graph),\n",
        "                nx.algorithms.cluster.average_clustering(graph)])\n",
        "\n",
        "df = pd.DataFrame(data, columns=column_names)\n",
        "graph_names = [\"Karate Club Network\", \"Dolphin Social Netwoek\", \"Jazz musicians network\"]\n",
        "df.insert(0, \"Dataset\",graph_names)\n",
        "df"
      ],
      "execution_count": 13,
      "outputs": [
        {
          "output_type": "execute_result",
          "data": {
            "text/html": [
              "<div>\n",
              "<style scoped>\n",
              "    .dataframe tbody tr th:only-of-type {\n",
              "        vertical-align: middle;\n",
              "    }\n",
              "\n",
              "    .dataframe tbody tr th {\n",
              "        vertical-align: top;\n",
              "    }\n",
              "\n",
              "    .dataframe thead th {\n",
              "        text-align: right;\n",
              "    }\n",
              "</style>\n",
              "<table border=\"1\" class=\"dataframe\">\n",
              "  <thead>\n",
              "    <tr style=\"text-align: right;\">\n",
              "      <th></th>\n",
              "      <th>Dataset</th>\n",
              "      <th>Nodes</th>\n",
              "      <th>Edges</th>\n",
              "      <th>Average Path Length</th>\n",
              "      <th>Average Clustering</th>\n",
              "    </tr>\n",
              "  </thead>\n",
              "  <tbody>\n",
              "    <tr>\n",
              "      <th>0</th>\n",
              "      <td>Karate Club Network</td>\n",
              "      <td>34</td>\n",
              "      <td>78</td>\n",
              "      <td>2.408200</td>\n",
              "      <td>0.570638</td>\n",
              "    </tr>\n",
              "    <tr>\n",
              "      <th>1</th>\n",
              "      <td>Dolphin Social Netwoek</td>\n",
              "      <td>62</td>\n",
              "      <td>159</td>\n",
              "      <td>3.356954</td>\n",
              "      <td>0.258958</td>\n",
              "    </tr>\n",
              "    <tr>\n",
              "      <th>2</th>\n",
              "      <td>Jazz musicians network</td>\n",
              "      <td>198</td>\n",
              "      <td>2742</td>\n",
              "      <td>0.796262</td>\n",
              "      <td>0.308725</td>\n",
              "    </tr>\n",
              "  </tbody>\n",
              "</table>\n",
              "</div>"
            ],
            "text/plain": [
              "                  Dataset  Nodes  ...  Average Path Length  Average Clustering\n",
              "0     Karate Club Network     34  ...             2.408200            0.570638\n",
              "1  Dolphin Social Netwoek     62  ...             3.356954            0.258958\n",
              "2  Jazz musicians network    198  ...             0.796262            0.308725\n",
              "\n",
              "[3 rows x 5 columns]"
            ]
          },
          "metadata": {},
          "execution_count": 13
        }
      ]
    }
  ]
}